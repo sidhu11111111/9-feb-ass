{
 "cells": [
  {
   "cell_type": "raw",
   "id": "df1ca2f3",
   "metadata": {},
   "source": [
    "#QNO.1 "
   ]
  },
  {
   "cell_type": "code",
   "execution_count": 3,
   "id": "1bbf43c5",
   "metadata": {},
   "outputs": [],
   "source": [
    "class Vehicle:\n",
    "    def __init__(self, name_of_vehicle, max_speed, average_of_vehicle):\n",
    "        self.name_of_vehicle = name_of_vehicle\n",
    "        self.max_speed = max_speed\n",
    "        self.average_of_vehicle = average_of_vehicle\n"
   ]
  },
  {
   "cell_type": "markdown",
   "id": "d00b7b84",
   "metadata": {},
   "source": [
    "#QNO.2 "
   ]
  },
  {
   "cell_type": "code",
   "execution_count": 2,
   "id": "91691d84",
   "metadata": {},
   "outputs": [],
   "source": [
    "class Car(Vehicle):\n",
    "    def seating_capacity(self, capacity):\n",
    "        return f\"{self.name_of_vehicle} has a seating capacity of {capacity} people.\"\n"
   ]
  },
  {
   "cell_type": "markdown",
   "id": "bbbaf42a",
   "metadata": {},
   "source": [
    "#QNO.3\n",
    "Multiple inheritance is when a class inherits from two or more parent classes. In Python, we can create multiple inheritance by passing more than one parent class in the parentheses while creating a child class."
   ]
  },
  {
   "cell_type": "code",
   "execution_count": 5,
   "id": "1f60ea57",
   "metadata": {},
   "outputs": [
    {
     "name": "stdout",
     "output_type": "stream",
     "text": [
      "This is function 1 from Parent1.\n",
      "This is function 2 from Parent2.\n",
      "This is function 3 from Child.\n"
     ]
    }
   ],
   "source": [
    "class Parent1:\n",
    "    def func1(self):\n",
    "        print(\"This is function 1 from Parent1.\")\n",
    "\n",
    "class Parent2:\n",
    "    def func2(self):\n",
    "        print(\"This is function 2 from Parent2.\")\n",
    "\n",
    "class Child(Parent1, Parent2):\n",
    "    def func3(self):\n",
    "        print(\"This is function 3 from Child.\")\n",
    "\n",
    "c = Child()\n",
    "c.func1()  \n",
    "c.func2() \n",
    "c.func3() "
   ]
  },
  {
   "cell_type": "markdown",
   "id": "b3287a5f",
   "metadata": {},
   "source": [
    "#QNO.4\n",
    "Getter and setter are used to access and modify the values of private instance variables of a class respectively. Getter is a method that is used to get the value of an instance variable and setter is a method that is used to set the value of an instance variable."
   ]
  },
  {
   "cell_type": "code",
   "execution_count": 6,
   "id": "f2bc6e9d",
   "metadata": {},
   "outputs": [
    {
     "name": "stdout",
     "output_type": "stream",
     "text": [
      "0\n",
      "5\n"
     ]
    }
   ],
   "source": [
    "class MyClass:\n",
    "    def __init__(self):\n",
    "        self.__my_variable = 0\n",
    "    \n",
    "    def get_my_variable(self):\n",
    "        return self.__my_variable\n",
    "    \n",
    "    def set_my_variable(self, value):\n",
    "        self.__my_variable = value\n",
    "\n",
    "obj = MyClass()\n",
    "print(obj.get_my_variable())  \n",
    "obj.set_my_variable(5)\n",
    "print(obj.get_my_variable())  \n"
   ]
  },
  {
   "cell_type": "markdown",
   "id": "f7461bbe",
   "metadata": {},
   "source": [
    "#QNO.5\n",
    "Method overriding is when a child class defines a method with the same name as a method in its parent class. The method in the child class overrides the method in the parent class."
   ]
  },
  {
   "cell_type": "code",
   "execution_count": 7,
   "id": "9c0e88d4",
   "metadata": {},
   "outputs": [
    {
     "name": "stdout",
     "output_type": "stream",
     "text": [
      "This is a method from Child.\n"
     ]
    }
   ],
   "source": [
    "class Parent:\n",
    "    def my_method(self):\n",
    "        print(\"This is a method from Parent.\")\n",
    "\n",
    "class Child(Parent):\n",
    "    def my_method(self):\n",
    "        print(\"This is a method from Child.\")\n",
    "\n",
    "c = Child()\n",
    "c.my_method() \n"
   ]
  },
  {
   "cell_type": "code",
   "execution_count": null,
   "id": "4ac1542e",
   "metadata": {},
   "outputs": [],
   "source": []
  }
 ],
 "metadata": {
  "kernelspec": {
   "display_name": "Python 3 (ipykernel)",
   "language": "python",
   "name": "python3"
  },
  "language_info": {
   "codemirror_mode": {
    "name": "ipython",
    "version": 3
   },
   "file_extension": ".py",
   "mimetype": "text/x-python",
   "name": "python",
   "nbconvert_exporter": "python",
   "pygments_lexer": "ipython3",
   "version": "3.9.13"
  }
 },
 "nbformat": 4,
 "nbformat_minor": 5
}
